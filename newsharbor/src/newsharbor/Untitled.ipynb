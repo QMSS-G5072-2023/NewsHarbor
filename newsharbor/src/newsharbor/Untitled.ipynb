{
 "cells": [
  {
   "cell_type": "code",
   "execution_count": 44,
   "id": "2c0e7f79",
   "metadata": {},
   "outputs": [],
   "source": [
    "import requests\n",
    "import pandas\n",
    "\n",
    "class NewsharborAPI:\n",
    "    def __init__(self):\n",
    "        self.api_key = '7a4f1oelyBGs9zmYKxk4lWm2cziztmS7'\n",
    "        self.base_url = 'https://api.nytimes.com/svc/news/v3/content/'\n",
    "\n",
    "    def get_section_list(self):\n",
    "        section_list_endpoint = 'section-list.json'\n",
    "        response = requests.get(f'{self.base_url}{section_list_endpoint}', params={'api-key': self.api_key})\n",
    "        try:\n",
    "            response.raise_for_status()\n",
    "            # Return the response JSON data directly\n",
    "            return response.json()\n",
    "        except requests.HTTPError as http_err:\n",
    "            return f\"HTTP error occurred: {http_err}\"\n",
    "        except Exception as err:\n",
    "            return f\"Other error occurred: {err}\"\n",
    "    \n",
    "    def get_latest_news(self, section, limit=10):\n",
    "        endpoint = f'{section}.json'\n",
    "        params = {'api-key': self.api_key, 'limit': limit}\n",
    "        response = requests.get(f'{self.base_url}{endpoint}', params=params)\n",
    "\n",
    "        try:\n",
    "            response.raise_for_status()\n",
    "            return response.json()\n",
    "        except requests.HTTPError as http_err:\n",
    "            return f\"HTTP error occurred: {http_err}\"\n",
    "        except Exception as err:\n",
    "            return f\"Other error occurred: {err}\"\n",
    "        \n",
    "\n"
   ]
  },
  {
   "cell_type": "code",
   "execution_count": 45,
   "id": "7574ed1f",
   "metadata": {},
   "outputs": [
    {
     "name": "stdout",
     "output_type": "stream",
     "text": [
      "HTTP error occurred: 400 Client Error: Bad Request for url: https://api.nytimes.com/svc/news/v3/content/arts.json?api-key=7a4f1oelyBGs9zmYKxk4lWm2cziztmS7&limit=10\n"
     ]
    }
   ],
   "source": [
    "api = NewsharborAPI()\n",
    "latest_news = api.get_latest_news('arts')\n",
    "print(latest_news)  # 查看返回的内容"
   ]
  },
  {
   "cell_type": "code",
   "execution_count": 46,
   "id": "56271eb4",
   "metadata": {},
   "outputs": [
    {
     "name": "stdout",
     "output_type": "stream",
     "text": [
      "{'status': 'OK', 'copyright': 'Copyright (c) 2023 The New York Times Company.  All Rights Reserved.', 'num_results': 50, 'results': [{'section': 'admin', 'display_name': 'Admin'}, {'section': 'arts', 'display_name': 'Arts'}, {'section': 'automobiles', 'display_name': 'Automobiles'}, {'section': 'books', 'display_name': 'Books'}, {'section': 'briefing', 'display_name': 'Briefing'}, {'section': 'business', 'display_name': 'Business'}, {'section': 'climate', 'display_name': 'Climate'}, {'section': 'corrections', 'display_name': 'Corrections'}, {'section': 'education', 'display_name': 'Education'}, {'section': 'en español', 'display_name': 'En español'}, {'section': 'fashion', 'display_name': 'Fashion'}, {'section': 'food', 'display_name': 'Food'}, {'section': 'gameplay', 'display_name': 'Gameplay'}, {'section': 'guide', 'display_name': 'Guide'}, {'section': 'health', 'display_name': 'Health'}, {'section': 'home & garden', 'display_name': 'Home & Garden'}, {'section': 'home page', 'display_name': 'Home Page'}, {'section': 'job market', 'display_name': 'Job Market'}, {'section': 'the learning network', 'display_name': 'The Learning Network'}, {'section': 'lens', 'display_name': 'Lens'}, {'section': 'magazine', 'display_name': 'Magazine'}, {'section': 'movies', 'display_name': 'Movies'}, {'section': 'multimedia/photos', 'display_name': 'Multimedia/Photos'}, {'section': 'new york', 'display_name': 'New York'}, {'section': 'obituaries', 'display_name': 'Obituaries'}, {'section': 'opinion', 'display_name': 'Opinion'}, {'section': 'parenting', 'display_name': 'Parenting'}, {'section': 'podcasts', 'display_name': 'Podcasts'}, {'section': 'reader center', 'display_name': 'Reader Center'}, {'section': 'real estate', 'display_name': 'Real Estate'}, {'section': 'smarter living', 'display_name': 'Smarter Living'}, {'section': 'science', 'display_name': 'Science'}, {'section': 'sports', 'display_name': 'Sports'}, {'section': 'style', 'display_name': 'Style'}, {'section': 'sunday review', 'display_name': 'Sunday Review'}, {'section': 't brand', 'display_name': 'T Brand'}, {'section': 't magazine', 'display_name': 'T Magazine'}, {'section': 'technology', 'display_name': 'Technology'}, {'section': 'theater', 'display_name': 'Theater'}, {'section': 'times insider', 'display_name': 'Times Insider'}, {'section': 'today’s paper', 'display_name': 'Today’s Paper'}, {'section': 'travel', 'display_name': 'Travel'}, {'section': 'u.s.', 'display_name': 'U.S.'}, {'section': 'universal', 'display_name': 'Universal'}, {'section': 'the upshot', 'display_name': 'The Upshot'}, {'section': 'video', 'display_name': 'Video'}, {'section': 'the weekly', 'display_name': 'The Weekly'}, {'section': 'well', 'display_name': 'Well'}, {'section': 'world', 'display_name': 'World'}, {'section': 'your money', 'display_name': 'Your Money'}]}\n"
     ]
    }
   ],
   "source": [
    "api = NewsharborAPI()\n",
    "section_list_response = api.get_section_list()\n",
    "\n",
    "print(section_list_response)\n"
   ]
  },
  {
   "cell_type": "code",
   "execution_count": 20,
   "id": "1e895b5c",
   "metadata": {},
   "outputs": [],
   "source": [
    "def get_latest_news(self, section, limit=10):\n",
    "    endpoint = f'{section}.json'\n",
    "    response = requests.get(f'{self.base_url}{endpoint}', params={'api-key': self.api_key, 'limit': limit})\n",
    "    try:\n",
    "        response.raise_for_status()\n",
    "        return response.json()\n",
    "    except requests.HTTPError as http_err:\n",
    "        return f\"HTTP error occurred: {http_err}\"\n",
    "    except Exception as err:\n",
    "        return f\"Other error occurred: {err}\""
   ]
  },
  {
   "cell_type": "code",
   "execution_count": 28,
   "id": "c04f3172",
   "metadata": {},
   "outputs": [
    {
     "ename": "AttributeError",
     "evalue": "'NewsharborAPI' object has no attribute 'get_latest_news'",
     "output_type": "error",
     "traceback": [
      "\u001b[0;31m---------------------------------------------------------------------------\u001b[0m",
      "\u001b[0;31mAttributeError\u001b[0m                            Traceback (most recent call last)",
      "Cell \u001b[0;32mIn[28], line 2\u001b[0m\n\u001b[1;32m      1\u001b[0m api \u001b[38;5;241m=\u001b[39m NewsharborAPI()\n\u001b[0;32m----> 2\u001b[0m latest_news \u001b[38;5;241m=\u001b[39m api\u001b[38;5;241m.\u001b[39mget_latest_news(\u001b[38;5;124m'\u001b[39m\u001b[38;5;124mworld\u001b[39m\u001b[38;5;124m'\u001b[39m)\n\u001b[1;32m      4\u001b[0m \u001b[38;5;66;03m# 检查返回的数据结构，并从中选择一个新闻URL\u001b[39;00m\n\u001b[1;32m      5\u001b[0m news_url \u001b[38;5;241m=\u001b[39m latest_news[\u001b[38;5;124m'\u001b[39m\u001b[38;5;124mresults\u001b[39m\u001b[38;5;124m'\u001b[39m][\u001b[38;5;241m0\u001b[39m][\u001b[38;5;124m'\u001b[39m\u001b[38;5;124murl\u001b[39m\u001b[38;5;124m'\u001b[39m]\n",
      "\u001b[0;31mAttributeError\u001b[0m: 'NewsharborAPI' object has no attribute 'get_latest_news'"
     ]
    }
   ],
   "source": [
    "\n"
   ]
  },
  {
   "cell_type": "code",
   "execution_count": 21,
   "id": "4cb20b76",
   "metadata": {},
   "outputs": [],
   "source": [
    "def search_news(self, query, limit=10):\n",
    "    endpoint = 'all.json'\n",
    "    response = requests.get(f'{self.base_url}{endpoint}', params={'api-key': self.api_key, 'q': query, 'limit': limit})\n",
    "    try:\n",
    "        response.raise_for_status()\n",
    "        return response.json()\n",
    "    except requests.HTTPError as http_err:\n",
    "        return f\"HTTP error occurred: {http_err}\"\n",
    "    except Exception as err:\n",
    "        return f\"Other error occurred: {err}\"\n"
   ]
  },
  {
   "cell_type": "code",
   "execution_count": 22,
   "id": "1bda624c",
   "metadata": {},
   "outputs": [],
   "source": [
    "def get_news_details(self, url):\n",
    "    response = requests.get(url)\n",
    "    try:\n",
    "        response.raise_for_status()\n",
    "        return response.json()\n",
    "    except requests.HTTPError as http_err:\n",
    "        return f\"HTTP error occurred: {http_err}\"\n",
    "    except Exception as err:\n",
    "        return f\"Other error occurred: {err}\""
   ]
  },
  {
   "cell_type": "code",
   "execution_count": 23,
   "id": "b39c3a84",
   "metadata": {},
   "outputs": [],
   "source": [
    "import pandas as pd\n",
    "\n",
    "def analyze_news_data(self, section):\n",
    "    data = self.get_latest_news(section)\n",
    "    df = pd.json_normalize(data['results'])\n",
    "    # 进行数据分析和可视化\n",
    "    # 例如: df['published_date'].value_counts().plot(kind='bar')\n"
   ]
  },
  {
   "cell_type": "code",
   "execution_count": null,
   "id": "cf6d4da1",
   "metadata": {},
   "outputs": [],
   "source": [
    "sh"
   ]
  }
 ],
 "metadata": {
  "kernelspec": {
   "display_name": "Python 3 (ipykernel)",
   "language": "python",
   "name": "python3"
  },
  "language_info": {
   "codemirror_mode": {
    "name": "ipython",
    "version": 3
   },
   "file_extension": ".py",
   "mimetype": "text/x-python",
   "name": "python",
   "nbconvert_exporter": "python",
   "pygments_lexer": "ipython3",
   "version": "3.11.4"
  }
 },
 "nbformat": 4,
 "nbformat_minor": 5
}
